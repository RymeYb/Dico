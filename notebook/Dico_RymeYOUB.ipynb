{
 "cells": [
  {
   "cell_type": "markdown",
   "metadata": {},
   "source": [
    "# Applications dico\n"
   ]
  },
  {
   "cell_type": "code",
   "execution_count": 51,
   "metadata": {},
   "outputs": [],
   "source": [
    "from IPython.display import display, clear_output, HTML, Markdown\n",
    "from requests_html import HTMLSession\n",
    "from bs4 import BeautifulSoup\n",
    "session = HTMLSession()\n",
    "import re\n",
    "from pylab import specgram, show\n",
    "from moviepy.editor import AudioFileClip\n",
    "from IPython import display as audioD\n",
    "import IPython.display as ipd\n",
    "from IPython.display import display, clear_output, HTML, Markdown \n",
    "import IPython.display as ipd\n",
    "import ipywidgets as widgets\n",
    "import pandas as pd\n",
    "import numpy as np\n",
    "\n",
    "pd.options.mode.chained_assignment = None "
   ]
  },
  {
   "cell_type": "markdown",
   "metadata": {},
   "source": [
    "## 1-  Réaliser un scrapper de fichier audio \n"
   ]
  },
  {
   "cell_type": "markdown",
   "metadata": {},
   "source": [
    "#### 1.1. Obtenir l'url du mp3 en anglais britannique et anglais américain d'un mot vedette cible\n"
   ]
  },
  {
   "cell_type": "markdown",
   "metadata": {},
   "source": [
    "Objectif : récupérer les audios et traductions"
   ]
  },
  {
   "cell_type": "code",
   "execution_count": 52,
   "metadata": {},
   "outputs": [],
   "source": [
    "def scrapping(df):\n",
    "    path=\"https://dictionary.cambridge.org/fr/dictionnaire/anglais/\"\n",
    "    listeUK = []\n",
    "    listeUS = []\n",
    "    \n",
    "    for mot in df[\"motVedette\"] :\n",
    "        lien=path+mot\n",
    "        response = session.get(lien)\n",
    "        status = response.status_code\n",
    "        html_doc = response.content\n",
    "        \n",
    "        #on récupère le body de notre html\n",
    "        \n",
    "        soup = BeautifulSoup(response.text,'html.parser')\n",
    "        souplettesBody = soup.find('body')\n",
    "        \n",
    "        # on filtre sur les balises de type audio\n",
    "        \n",
    "        soupletteAside = souplettesBody.findAll('amp-audio')\n",
    "        soupletteAsideuk = soupletteAside[0].find('source')\n",
    "        soupletteAsideus = soupletteAside[1].find('source')\n",
    "\n",
    "        rechercher = soup.findAll(\"div\", {\"class\" : \"pos-header dpos-h\"})\n",
    "\n",
    "        mp3uk = soupletteAsideuk['src']\n",
    "        mp3us = soupletteAsideus['src']\n",
    "\n",
    "        base_url='https://dictionary.cambridge.org'\n",
    "        audiouk = base_url+mp3uk\n",
    "        audious = base_url+mp3us\n",
    "        \n",
    "        #audio us et uk \n",
    "        \n",
    "        listeUK.append(audiouk)\n",
    "        listeUS.append(audious)\n",
    "                                  \n",
    "    df['lienUK']=pd.Series(listeUK).values\n",
    "    df['lienUS']=pd.Series(listeUS).values\n",
    "    return df"
   ]
  },
  {
   "cell_type": "code",
   "execution_count": 53,
   "metadata": {},
   "outputs": [],
   "source": [
    "def Audio(df):\n",
    "    clear_output()\n",
    "    listeWid = widgets.Output()\n",
    "    lU = widgets.Output()\n",
    "    sU = widgets.Output()\n",
    "\n",
    "    for numLigne in range(len(df)):\n",
    "        \n",
    "        labelUK = widgets.Label(\"UK\")\n",
    "        itemsUK = audioD.Audio(url = df[\"lienUK\"][numLigne])\n",
    "        spectroUK = df[\"lienUK\"][numLigne]\n",
    "    \n",
    "        labelUS = widgets.Label(\"US\")\n",
    "        itemsUS = audioD.Audio(url = df[\"lienUS\"][numLigne])\n",
    "        audioUK = widgets.Output()\n",
    "        audioUK.append_display_data(itemsUK)\n",
    "        audioUS = widgets.Output()\n",
    "        audioUS.append_display_data(itemsUS)\n",
    "        spectroUS = df[\"lienUS\"][numLigne]\n",
    "        \n",
    "        lU = widgets.HBox([labelUK,audioUK,labelUS,audioUS])\n",
    "\n",
    "        # Les mots\n",
    "        labelMot = widgets.Label(df[\"motVedette\"][numLigne])\n",
    "        labelPron = widgets.Label(str(df[\"pron\"][numLigne]))\n",
    "        label = widgets.HBox([labelMot, labelPron])\n",
    "\n",
    "\n",
    "        listeWid.append_display_data(widgets.VBox([label,lU,sU]))\n",
    "                        \n",
    "    return listeWid"
   ]
  },
  {
   "cell_type": "markdown",
   "metadata": {},
   "source": [
    "Objectif : Produire par programmation un enrichissement du dictionnaire de Buchanan 1757"
   ]
  },
  {
   "cell_type": "code",
   "execution_count": 55,
   "metadata": {},
   "outputs": [
    {
     "data": {
      "text/html": [
       "<div>\n",
       "<style scoped>\n",
       "    .dataframe tbody tr th:only-of-type {\n",
       "        vertical-align: middle;\n",
       "    }\n",
       "\n",
       "    .dataframe tbody tr th {\n",
       "        vertical-align: top;\n",
       "    }\n",
       "\n",
       "    .dataframe thead th {\n",
       "        text-align: right;\n",
       "    }\n",
       "</style>\n",
       "<table border=\"1\" class=\"dataframe\">\n",
       "  <thead>\n",
       "    <tr style=\"text-align: right;\">\n",
       "      <th></th>\n",
       "      <th>nbSyll</th>\n",
       "      <th>pron</th>\n",
       "      <th>origin</th>\n",
       "      <th>warning</th>\n",
       "      <th>remarques</th>\n",
       "      <th>POS</th>\n",
       "      <th>lineId</th>\n",
       "      <th>pageId</th>\n",
       "    </tr>\n",
       "  </thead>\n",
       "  <tbody>\n",
       "    <tr>\n",
       "      <th>10833</th>\n",
       "      <td>2</td>\n",
       "      <td>prŏʹxy</td>\n",
       "      <td>NaN</td>\n",
       "      <td>NaN</td>\n",
       "      <td>NaN</td>\n",
       "      <td>n.</td>\n",
       "      <td>16.0</td>\n",
       "      <td>172</td>\n",
       "    </tr>\n",
       "    <tr>\n",
       "      <th>13456</th>\n",
       "      <td>1</td>\n",
       "      <td>swăp</td>\n",
       "      <td>NaN</td>\n",
       "      <td>NaN</td>\n",
       "      <td>NaN</td>\n",
       "      <td>v.</td>\n",
       "      <td>57.0</td>\n",
       "      <td>208</td>\n",
       "    </tr>\n",
       "    <tr>\n",
       "      <th>7549</th>\n",
       "      <td>2</td>\n",
       "      <td>_k_nāʹv_e_ry</td>\n",
       "      <td>NaN</td>\n",
       "      <td>NaN</td>\n",
       "      <td>NaN</td>\n",
       "      <td>n.</td>\n",
       "      <td>27.0</td>\n",
       "      <td>126</td>\n",
       "    </tr>\n",
       "    <tr>\n",
       "      <th>13054</th>\n",
       "      <td>2</td>\n",
       "      <td>ſteeʹrage</td>\n",
       "      <td>NaN</td>\n",
       "      <td>NaN</td>\n",
       "      <td>NaN</td>\n",
       "      <td>n.</td>\n",
       "      <td>15.0</td>\n",
       "      <td>203</td>\n",
       "    </tr>\n",
       "    <tr>\n",
       "      <th>3713</th>\n",
       "      <td>3</td>\n",
       "      <td>dĭſcĕʹrnment</td>\n",
       "      <td>NaN</td>\n",
       "      <td>NaN</td>\n",
       "      <td>NaN</td>\n",
       "      <td>n.</td>\n",
       "      <td>22.0</td>\n",
       "      <td>71</td>\n",
       "    </tr>\n",
       "  </tbody>\n",
       "</table>\n",
       "</div>"
      ],
      "text/plain": [
       "       nbSyll          pron origin warning remarques POS  lineId  pageId\n",
       "10833       2        prŏʹxy    NaN     NaN       NaN  n.    16.0     172\n",
       "13456       1          swăp    NaN     NaN       NaN  v.    57.0     208\n",
       "7549        2  _k_nāʹv_e_ry    NaN     NaN       NaN  n.    27.0     126\n",
       "13054       2     ſteeʹrage    NaN     NaN       NaN  n.    15.0     203\n",
       "3713        3  dĭſcĕʹrnment    NaN     NaN       NaN  n.    22.0      71"
      ]
     },
     "execution_count": 55,
     "metadata": {},
     "output_type": "execute_result"
    }
   ],
   "source": [
    "cheminDico = r\"C:\\Users\\Ryme2\\OneDrive\\Documents\\CNAM_3A\\Machine Learning\\[NAUGE]_Youb Ryme\\cnam-athon-pronunciation-main\\data\\dictionary\\1757_Buchanan-J.csv\" \n",
    "dfDicoBuch = pd.read_csv(cheminDico, delimiter=\";\", encoding=\"utf8\")\n",
    "\n",
    "dfDicoBuch.sample(n=5)\n"
   ]
  },
  {
   "cell_type": "markdown",
   "metadata": {},
   "source": [
    "## 2- Produire par programmation un enrichissement du dictionnaire de Buchanan 1757"
   ]
  },
  {
   "cell_type": "markdown",
   "metadata": {},
   "source": [
    "#### 2.1 -  une colonne motVedette en utilisant le mapping du fichier Buchanan_PronChar_counts.csv"
   ]
  },
  {
   "cell_type": "code",
   "execution_count": 59,
   "metadata": {},
   "outputs": [
    {
     "data": {
      "text/html": [
       "<div>\n",
       "<style scoped>\n",
       "    .dataframe tbody tr th:only-of-type {\n",
       "        vertical-align: middle;\n",
       "    }\n",
       "\n",
       "    .dataframe tbody tr th {\n",
       "        vertical-align: top;\n",
       "    }\n",
       "\n",
       "    .dataframe thead th {\n",
       "        text-align: right;\n",
       "    }\n",
       "</style>\n",
       "<table border=\"1\" class=\"dataframe\">\n",
       "  <thead>\n",
       "    <tr style=\"text-align: right;\">\n",
       "      <th></th>\n",
       "      <th>char</th>\n",
       "      <th>occ</th>\n",
       "      <th>graph</th>\n",
       "    </tr>\n",
       "  </thead>\n",
       "  <tbody>\n",
       "    <tr>\n",
       "      <th>4</th>\n",
       "      <td>c</td>\n",
       "      <td>5500</td>\n",
       "      <td>c</td>\n",
       "    </tr>\n",
       "    <tr>\n",
       "      <th>48</th>\n",
       "      <td>у</td>\n",
       "      <td>3</td>\n",
       "      <td>y</td>\n",
       "    </tr>\n",
       "    <tr>\n",
       "      <th>6</th>\n",
       "      <td>s</td>\n",
       "      <td>2935</td>\n",
       "      <td>s</td>\n",
       "    </tr>\n",
       "    <tr>\n",
       "      <th>56</th>\n",
       "      <td>а</td>\n",
       "      <td>2</td>\n",
       "      <td>a</td>\n",
       "    </tr>\n",
       "    <tr>\n",
       "      <th>54</th>\n",
       "      <td>)</td>\n",
       "      <td>28</td>\n",
       "      <td>NaN</td>\n",
       "    </tr>\n",
       "  </tbody>\n",
       "</table>\n",
       "</div>"
      ],
      "text/plain": [
       "   char   occ graph\n",
       "4     c  5500     c\n",
       "48    у     3     y\n",
       "6     s  2935     s\n",
       "56    а     2     a\n",
       "54    )    28   NaN"
      ]
     },
     "execution_count": 59,
     "metadata": {},
     "output_type": "execute_result"
    }
   ],
   "source": [
    "cheminMap = r\"C:\\Users\\Ryme2\\OneDrive\\Documents\\CNAM_3A\\Machine Learning\\[NAUGE]_Youb Ryme\\cnam-athon-pronunciation-main\\data\\dictionary\\Buchanan_PronChar_counts.csv\"\n",
    "dfMap = pd.read_csv(cheminMap, delimiter=\";\", encoding=\"utf8\")\n",
    "\n",
    "dfMap.sample(n=5)"
   ]
  },
  {
   "cell_type": "code",
   "execution_count": 60,
   "metadata": {},
   "outputs": [],
   "source": [
    "dfMap = dfMap.replace(np.nan,'', regex = True)"
   ]
  },
  {
   "cell_type": "code",
   "execution_count": 61,
   "metadata": {},
   "outputs": [],
   "source": [
    "def correctionTexte(ancienMot,dfMap):\n",
    "    Resultat = \"\"\n",
    "    \n",
    "    for lettre in ancienMot: \n",
    "        dfRowFinded = dfMap[dfMap['char'] == lettre]\n",
    "        \n",
    "        if len(dfRowFinded == 1):\n",
    "            Resultat += dfRowFinded.iloc[0]['graph']\n",
    "            \n",
    "        else:\n",
    "            Resultat += '?'\n",
    "            \n",
    "    return(Resultat)"
   ]
  },
  {
   "cell_type": "code",
   "execution_count": 62,
   "metadata": {},
   "outputs": [],
   "source": [
    "dfDicoBuch['motVedette'] = dfDicoBuch.apply(lambda x: correctionTexte(x['pron'], dfMap),1)"
   ]
  },
  {
   "cell_type": "markdown",
   "metadata": {},
   "source": [
    "#### 2.2 - Création des colonnes Sampa et Ipa"
   ]
  },
  {
   "cell_type": "code",
   "execution_count": 63,
   "metadata": {},
   "outputs": [],
   "source": [
    "CheminBigRichSample=r\"C:\\Users\\Ryme2\\OneDrive\\Documents\\CNAM_3A\\Machine Learning\\[NAUGE]_Youb Ryme\\cnam-athon-pronunciation-main\\data\\dataframe\\BigiRichSample.csv\"\n",
    "dfBRS = pd.read_csv(CheminBigRichSample, delimiter=\";\", encoding=\"utf8\")"
   ]
  },
  {
   "cell_type": "code",
   "execution_count": 64,
   "metadata": {
    "scrolled": true
   },
   "outputs": [
    {
     "data": {
      "text/html": [
       "<div>\n",
       "<style scoped>\n",
       "    .dataframe tbody tr th:only-of-type {\n",
       "        vertical-align: middle;\n",
       "    }\n",
       "\n",
       "    .dataframe tbody tr th {\n",
       "        vertical-align: top;\n",
       "    }\n",
       "\n",
       "    .dataframe thead th {\n",
       "        text-align: right;\n",
       "    }\n",
       "</style>\n",
       "<table border=\"1\" class=\"dataframe\">\n",
       "  <thead>\n",
       "    <tr style=\"text-align: right;\">\n",
       "      <th></th>\n",
       "      <th>nbSyll</th>\n",
       "      <th>pron</th>\n",
       "      <th>origin</th>\n",
       "      <th>warning</th>\n",
       "      <th>remarques</th>\n",
       "      <th>POS</th>\n",
       "      <th>lineId</th>\n",
       "      <th>pageId</th>\n",
       "      <th>motVedette</th>\n",
       "      <th>Sampa</th>\n",
       "      <th>ipa</th>\n",
       "    </tr>\n",
       "  </thead>\n",
       "  <tbody>\n",
       "    <tr>\n",
       "      <th>2898</th>\n",
       "      <td>2</td>\n",
       "      <td>ĕʹdging</td>\n",
       "      <td>NaN</td>\n",
       "      <td>NaN</td>\n",
       "      <td>NaN</td>\n",
       "      <td>n.</td>\n",
       "      <td>28.0</td>\n",
       "      <td>78</td>\n",
       "      <td>edging</td>\n",
       "      <td>E dZ i N</td>\n",
       "      <td>ɛ?iŋ</td>\n",
       "    </tr>\n",
       "    <tr>\n",
       "      <th>1954</th>\n",
       "      <td>2</td>\n",
       "      <td>coоpʹ_e_r</td>\n",
       "      <td>NaN</td>\n",
       "      <td>NaN</td>\n",
       "      <td>NaN</td>\n",
       "      <td>n.</td>\n",
       "      <td>22.0</td>\n",
       "      <td>59</td>\n",
       "      <td>cooper</td>\n",
       "      <td>k u p 3:r</td>\n",
       "      <td>kupɜ:r</td>\n",
       "    </tr>\n",
       "    <tr>\n",
       "      <th>1566</th>\n",
       "      <td>1</td>\n",
       "      <td>clŏth</td>\n",
       "      <td>NaN</td>\n",
       "      <td>NaN</td>\n",
       "      <td>NaN</td>\n",
       "      <td>n.</td>\n",
       "      <td>8.0</td>\n",
       "      <td>52</td>\n",
       "      <td>cloth</td>\n",
       "      <td>k l O: T</td>\n",
       "      <td>klOːθ</td>\n",
       "    </tr>\n",
       "    <tr>\n",
       "      <th>8685</th>\n",
       "      <td>1</td>\n",
       "      <td>ſtĭck</td>\n",
       "      <td>NaN</td>\n",
       "      <td>NaN</td>\n",
       "      <td>NaN</td>\n",
       "      <td>n.</td>\n",
       "      <td>35.0</td>\n",
       "      <td>203</td>\n",
       "      <td>stick</td>\n",
       "      <td>s t I k</td>\n",
       "      <td>stɪk</td>\n",
       "    </tr>\n",
       "    <tr>\n",
       "      <th>7585</th>\n",
       "      <td>2</td>\n",
       "      <td>rĕlieʹf</td>\n",
       "      <td>NaN</td>\n",
       "      <td>NaN</td>\n",
       "      <td>NaN</td>\n",
       "      <td>n.</td>\n",
       "      <td>49.0</td>\n",
       "      <td>180</td>\n",
       "      <td>relief</td>\n",
       "      <td>r\\ i l i: f</td>\n",
       "      <td>ɹiliːf</td>\n",
       "    </tr>\n",
       "  </tbody>\n",
       "</table>\n",
       "</div>"
      ],
      "text/plain": [
       "      nbSyll       pron origin warning remarques POS  lineId  pageId  \\\n",
       "2898       2    ĕʹdging    NaN     NaN       NaN  n.    28.0      78   \n",
       "1954       2  coоpʹ_e_r    NaN     NaN       NaN  n.    22.0      59   \n",
       "1566       1      clŏth    NaN     NaN       NaN  n.     8.0      52   \n",
       "8685       1      ſtĭck    NaN     NaN       NaN  n.    35.0     203   \n",
       "7585       2    rĕlieʹf    NaN     NaN       NaN  n.    49.0     180   \n",
       "\n",
       "     motVedette        Sampa     ipa  \n",
       "2898     edging     E dZ i N    ɛ?iŋ  \n",
       "1954     cooper    k u p 3:r  kupɜ:r  \n",
       "1566      cloth     k l O: T   klOːθ  \n",
       "8685      stick      s t I k    stɪk  \n",
       "7585     relief  r\\ i l i: f  ɹiliːf  "
      ]
     },
     "execution_count": 64,
     "metadata": {},
     "output_type": "execute_result"
    }
   ],
   "source": [
    "DfDico = dfDicoBuch.merge(dfBRS, how='inner',left_on= 'motVedette', right_on='hwd')\n",
    "del DfDico['hwd']\n",
    "DfDico.sample(n=5)"
   ]
  },
  {
   "cell_type": "markdown",
   "metadata": {},
   "source": [
    "#### 2.3 sauvegarder la nouvelle matrice obtenue dans ./../data/dataframe/BuchananRich.csv"
   ]
  },
  {
   "cell_type": "code",
   "execution_count": 65,
   "metadata": {},
   "outputs": [],
   "source": [
    "DfDico.to_csv(r\"C:\\Users\\Ryme2\\OneDrive\\Documents\\CNAM_3A\\Machine Learning\\[NAUGE]_Youb Ryme\\cnam-athon-pronunciation-main\\data\\dataframe\\BuchananRich.csv\")"
   ]
  },
  {
   "cell_type": "code",
   "execution_count": 66,
   "metadata": {},
   "outputs": [
    {
     "data": {
      "text/html": [
       "<div>\n",
       "<style scoped>\n",
       "    .dataframe tbody tr th:only-of-type {\n",
       "        vertical-align: middle;\n",
       "    }\n",
       "\n",
       "    .dataframe tbody tr th {\n",
       "        vertical-align: top;\n",
       "    }\n",
       "\n",
       "    .dataframe thead th {\n",
       "        text-align: right;\n",
       "    }\n",
       "</style>\n",
       "<table border=\"1\" class=\"dataframe\">\n",
       "  <thead>\n",
       "    <tr style=\"text-align: right;\">\n",
       "      <th></th>\n",
       "      <th>Unnamed: 0</th>\n",
       "      <th>nbSyll</th>\n",
       "      <th>pron</th>\n",
       "      <th>origin</th>\n",
       "      <th>warning</th>\n",
       "      <th>remarques</th>\n",
       "      <th>POS</th>\n",
       "      <th>lineId</th>\n",
       "      <th>pageId</th>\n",
       "      <th>motVedette</th>\n",
       "      <th>Sampa</th>\n",
       "      <th>ipa</th>\n",
       "    </tr>\n",
       "  </thead>\n",
       "  <tbody>\n",
       "    <tr>\n",
       "      <th>0</th>\n",
       "      <td>0</td>\n",
       "      <td>3</td>\n",
       "      <td>aʹbăcus</td>\n",
       "      <td>NaN</td>\n",
       "      <td>NaN</td>\n",
       "      <td>NaN</td>\n",
       "      <td>n.</td>\n",
       "      <td>2.0</td>\n",
       "      <td>19</td>\n",
       "      <td>abacus</td>\n",
       "      <td>{ b @ k @ s</td>\n",
       "      <td>æbəkəs</td>\n",
       "    </tr>\n",
       "    <tr>\n",
       "      <th>1</th>\n",
       "      <td>1</td>\n",
       "      <td>3</td>\n",
       "      <td>ābăʹndon</td>\n",
       "      <td>F.</td>\n",
       "      <td>NaN</td>\n",
       "      <td>NaN</td>\n",
       "      <td>v.</td>\n",
       "      <td>5.0</td>\n",
       "      <td>19</td>\n",
       "      <td>abandon</td>\n",
       "      <td>@ b { n d @ n</td>\n",
       "      <td>əbændən</td>\n",
       "    </tr>\n",
       "    <tr>\n",
       "      <th>2</th>\n",
       "      <td>2</td>\n",
       "      <td>4</td>\n",
       "      <td>ābăʹndŏned</td>\n",
       "      <td>NaN</td>\n",
       "      <td>NaN</td>\n",
       "      <td>NaN</td>\n",
       "      <td>a.</td>\n",
       "      <td>6.0</td>\n",
       "      <td>19</td>\n",
       "      <td>abandoned</td>\n",
       "      <td>@ b { n d @ n d</td>\n",
       "      <td>əbændənd</td>\n",
       "    </tr>\n",
       "  </tbody>\n",
       "</table>\n",
       "</div>"
      ],
      "text/plain": [
       "   Unnamed: 0  nbSyll        pron origin warning remarques POS  lineId  \\\n",
       "0           0       3     aʹbăcus    NaN     NaN       NaN  n.     2.0   \n",
       "1           1       3    ābăʹndon     F.     NaN       NaN  v.     5.0   \n",
       "2           2       4  ābăʹndŏned    NaN     NaN       NaN  a.     6.0   \n",
       "\n",
       "   pageId motVedette            Sampa       ipa  \n",
       "0      19     abacus      { b @ k @ s    æbəkəs  \n",
       "1      19    abandon    @ b { n d @ n   əbændən  \n",
       "2      19  abandoned  @ b { n d @ n d  əbændənd  "
      ]
     },
     "execution_count": 66,
     "metadata": {},
     "output_type": "execute_result"
    }
   ],
   "source": [
    "cheminBigi = r\"C:\\Users\\Ryme2\\OneDrive\\Documents\\CNAM_3A\\Machine Learning\\[NAUGE]_Youb Ryme\\cnam-athon-pronunciation-main\\data\\dataframe\\BuchananRich.csv\"\n",
    "Bigi = pd.read_csv(cheminBigi, delimiter=\",\", encoding=\"utf8\")\n",
    "Bigi.head(3)"
   ]
  },
  {
   "cell_type": "code",
   "execution_count": 67,
   "metadata": {},
   "outputs": [
    {
     "data": {
      "text/html": [
       "<div>\n",
       "<style scoped>\n",
       "    .dataframe tbody tr th:only-of-type {\n",
       "        vertical-align: middle;\n",
       "    }\n",
       "\n",
       "    .dataframe tbody tr th {\n",
       "        vertical-align: top;\n",
       "    }\n",
       "\n",
       "    .dataframe thead th {\n",
       "        text-align: right;\n",
       "    }\n",
       "</style>\n",
       "<table border=\"1\" class=\"dataframe\">\n",
       "  <thead>\n",
       "    <tr style=\"text-align: right;\">\n",
       "      <th></th>\n",
       "      <th>motVedette</th>\n",
       "      <th>nbSyll</th>\n",
       "      <th>pron</th>\n",
       "      <th>Sampa</th>\n",
       "      <th>ipa</th>\n",
       "    </tr>\n",
       "  </thead>\n",
       "  <tbody>\n",
       "    <tr>\n",
       "      <th>0</th>\n",
       "      <td>abacus</td>\n",
       "      <td>3</td>\n",
       "      <td>aʹbăcus</td>\n",
       "      <td>{ b @ k @ s</td>\n",
       "      <td>æbəkəs</td>\n",
       "    </tr>\n",
       "    <tr>\n",
       "      <th>1</th>\n",
       "      <td>abandon</td>\n",
       "      <td>3</td>\n",
       "      <td>ābăʹndon</td>\n",
       "      <td>@ b { n d @ n</td>\n",
       "      <td>əbændən</td>\n",
       "    </tr>\n",
       "    <tr>\n",
       "      <th>2</th>\n",
       "      <td>abandoned</td>\n",
       "      <td>4</td>\n",
       "      <td>ābăʹndŏned</td>\n",
       "      <td>@ b { n d @ n d</td>\n",
       "      <td>əbændənd</td>\n",
       "    </tr>\n",
       "  </tbody>\n",
       "</table>\n",
       "</div>"
      ],
      "text/plain": [
       "  motVedette  nbSyll        pron            Sampa       ipa\n",
       "0     abacus       3     aʹbăcus      { b @ k @ s    æbəkəs\n",
       "1    abandon       3    ābăʹndon    @ b { n d @ n   əbændən\n",
       "2  abandoned       4  ābăʹndŏned  @ b { n d @ n d  əbændənd"
      ]
     },
     "execution_count": 67,
     "metadata": {},
     "output_type": "execute_result"
    }
   ],
   "source": [
    "dfBigi=Bigi[[\"motVedette\",\"nbSyll\",\"pron\",\"Sampa\",\"ipa\"]]\n",
    "dfBigi.head(3)"
   ]
  },
  {
   "cell_type": "markdown",
   "metadata": {},
   "source": [
    "### 3 - Construire une UI permettant de filtrer les entrées du dictionnaire enrichi de Buchanan"
   ]
  },
  {
   "cell_type": "code",
   "execution_count": 68,
   "metadata": {},
   "outputs": [],
   "source": [
    "filtreHWD = widgets.Text(value=\"\",description='filtre hwd',layout={'width': '250px'} )\n",
    "filtreIPA = widgets.Text(value=\"\",description='filtre ipa',layout={'width': '250px'} )\n",
    "occMax = widgets.IntSlider(min=0,max=10,step=1,description='Occ.Max:',value=1)\n",
    "bouton = widgets.Button(description='Démarrer', icon = \"check\")"
   ]
  },
  {
   "cell_type": "code",
   "execution_count": 69,
   "metadata": {},
   "outputs": [],
   "source": [
    "def on_button_clicked(_):\n",
    "    nbLigne = occMax.value\n",
    "    HWD = filtreHWD.value \n",
    "    IPA = filtreIPA.value\n",
    "    df = \"\"\n",
    "\n",
    "    with dataFrame:\n",
    "        clear_output()\n",
    "        if (HWD != \"\"):\n",
    "            df = dfBigi[(dfBigi.motVedette.str.match(HWD))]\n",
    "            if(IPA != \"\"):\n",
    "                df = df[(df.pron.str.match(IPA))]\n",
    "        elif (IPA != \"\"):\n",
    "            df = dfBigi[(dfBigi.pron.str.match(IPA))]\n",
    "\n",
    "        if(len(df) > nbLigne):\n",
    "            df = df.sample(n=nbLigne).copy()\n",
    "        df = df.reset_index()    \n",
    "        display(df)\n",
    "        \n",
    "    with audio :\n",
    "        clear_output()\n",
    "        df = scrapping(df)  \n",
    "        \n",
    "        listeAudio = Audio(df) \n",
    "        display(listeAudio)\n",
    "        \n",
    "            \n",
    "bouton.on_click(on_button_clicked)"
   ]
  },
  {
   "cell_type": "code",
   "execution_count": 70,
   "metadata": {},
   "outputs": [],
   "source": [
    "dataFrame = widgets.Output()\n",
    "audio = widgets.Output()"
   ]
  },
  {
   "cell_type": "code",
   "execution_count": 72,
   "metadata": {},
   "outputs": [
    {
     "data": {
      "application/vnd.jupyter.widget-view+json": {
       "model_id": "256c0c95c66b44da98a7c8296d9be240",
       "version_major": 2,
       "version_minor": 0
      },
      "text/plain": [
       "VBox(children=(HBox(children=(Text(value='love', description='filtre hwd', layout=Layout(width='250px')), Text…"
      ]
     },
     "metadata": {},
     "output_type": "display_data"
    }
   ],
   "source": [
    "bouton1 = widgets.HBox([filtreHWD, filtreIPA, occMax, bouton])\n",
    "bouton2 = widgets.HBox([dataFrame])\n",
    "bouton3 = widgets.HBox([audio])\n",
    "\n",
    "interface = widgets.VBox([bouton1,bouton2,bouton3])\n",
    "interface"
   ]
  }
 ],
 "metadata": {
  "kernelspec": {
   "display_name": "Python 3",
   "language": "python",
   "name": "python3"
  },
  "language_info": {
   "codemirror_mode": {
    "name": "ipython",
    "version": 3
   },
   "file_extension": ".py",
   "mimetype": "text/x-python",
   "name": "python",
   "nbconvert_exporter": "python",
   "pygments_lexer": "ipython3",
   "version": "3.8.5"
  }
 },
 "nbformat": 4,
 "nbformat_minor": 4
}
